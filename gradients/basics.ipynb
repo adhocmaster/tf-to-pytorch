{
 "cells": [
  {
   "cell_type": "code",
   "execution_count": 40,
   "metadata": {},
   "outputs": [],
   "source": [
    "import torch\n",
    "\n",
    "a = torch.tensor([2., 3.], requires_grad=True)\n",
    "b = torch.tensor([6., 4.], requires_grad=True)"
   ]
  },
  {
   "cell_type": "markdown",
   "metadata": {},
   "source": [
    "# Beautiful explanation here: https://pytorch.org/tutorials/beginner/blitz/autograd_tutorial.html"
   ]
  },
  {
   "cell_type": "code",
   "execution_count": 41,
   "metadata": {},
   "outputs": [],
   "source": [
    "Q = 3*a**3 - b**2 # our hypothetic error function, a and b are model parameters (total 4 weights). In this case, setting a, b to zero eliminates the error. Unfortunately, in actual networks, the setting weights to zeros will not make error go away.\n",
    "\n",
    "# dQ/da = 9*as**2, dQ/db = -2b"
   ]
  },
  {
   "cell_type": "code",
   "execution_count": 42,
   "metadata": {},
   "outputs": [
    {
     "name": "stdout",
     "output_type": "stream",
     "text": [
      "tensor([360.,  81.])\n",
      "tensor([-120.,   -8.])\n"
     ]
    }
   ],
   "source": [
    "# non-agregated version\n",
    "external_grad = torch.tensor([10., 1.]) # this actually means what is the derivative if we increase a[0], b[0] by 10, and a[1], b[1] by 1\n",
    "Q.backward(gradient=external_grad)\n",
    "print(a.grad) # this is 10 times as the derivative of a[0]\n",
    "print(b.grad)"
   ]
  },
  {
   "cell_type": "code",
   "execution_count": null,
   "metadata": {},
   "outputs": [],
   "source": []
  }
 ],
 "metadata": {
  "kernelspec": {
   "display_name": "Python 3",
   "language": "python",
   "name": "python3"
  },
  "language_info": {
   "codemirror_mode": {
    "name": "ipython",
    "version": 3
   },
   "file_extension": ".py",
   "mimetype": "text/x-python",
   "name": "python",
   "nbconvert_exporter": "python",
   "pygments_lexer": "ipython3",
   "version": "3.7.9"
  }
 },
 "nbformat": 4,
 "nbformat_minor": 4
}
